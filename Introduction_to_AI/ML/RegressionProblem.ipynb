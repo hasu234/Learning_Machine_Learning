{
  "nbformat": 4,
  "nbformat_minor": 0,
  "metadata": {
    "colab": {
      "name": "RegressionProblem.ipynb",
      "provenance": [],
      "collapsed_sections": []
    },
    "kernelspec": {
      "name": "python3",
      "display_name": "Python 3"
    },
    "language_info": {
      "name": "python"
    }
  },
  "cells": [
    {
      "cell_type": "code",
      "metadata": {
        "id": "yB6NpbB1d46N"
      },
      "source": [
        "import numpy as np\n",
        "import pandas as pd\n",
        "import matplotlib.pyplot as plt"
      ],
      "execution_count": null,
      "outputs": []
    },
    {
      "cell_type": "code",
      "metadata": {
        "id": "vBaQY8rif-Ea"
      },
      "source": [
        "df = pd.read_csv('/content/CarPrice_Regression.csv')"
      ],
      "execution_count": null,
      "outputs": []
    },
    {
      "cell_type": "code",
      "metadata": {
        "id": "0aed70XMgHPw"
      },
      "source": [
        "df.head()"
      ],
      "execution_count": null,
      "outputs": []
    },
    {
      "cell_type": "code",
      "metadata": {
        "id": "QH9F6uwzgUI7"
      },
      "source": [
        "df.shape"
      ],
      "execution_count": null,
      "outputs": []
    },
    {
      "cell_type": "code",
      "metadata": {
        "id": "7jRAEK1ZgZBn"
      },
      "source": [
        "df.isnull().sum()"
      ],
      "execution_count": null,
      "outputs": []
    },
    {
      "cell_type": "markdown",
      "metadata": {
        "id": "9XGvSnMPg28_"
      },
      "source": [
        "Feature & Label "
      ]
    },
    {
      "cell_type": "code",
      "metadata": {
        "id": "2WnwzMj8ggrX"
      },
      "source": [
        "x = df.drop(['price'], axis = 1) #Independent Variable Or Feature\n",
        "\n",
        "#x = df.iloc[:, :2].values"
      ],
      "execution_count": null,
      "outputs": []
    },
    {
      "cell_type": "code",
      "metadata": {
        "id": "xfUjQVkOhLcB"
      },
      "source": [
        "x"
      ],
      "execution_count": null,
      "outputs": []
    },
    {
      "cell_type": "code",
      "metadata": {
        "id": "x0grFJL7hQfS"
      },
      "source": [
        "y = df['price'] #Dependent Variable or Label"
      ],
      "execution_count": null,
      "outputs": []
    },
    {
      "cell_type": "code",
      "metadata": {
        "id": "bzZPdwyghVjF"
      },
      "source": [
        "y.head()"
      ],
      "execution_count": null,
      "outputs": []
    },
    {
      "cell_type": "markdown",
      "metadata": {
        "id": "x-q3r3btoo1M"
      },
      "source": [
        "Visualization"
      ]
    },
    {
      "cell_type": "code",
      "metadata": {
        "id": "U_iV7XH7ooZh"
      },
      "source": [
        "plt.scatter(df.carlength, df['price'])\n",
        "plt.title('CarLength vs Price')\n",
        "plt.xlabel(\"Price\")\n",
        "plt.ylabel('Car Length')\n",
        "plt.show()"
      ],
      "execution_count": null,
      "outputs": []
    },
    {
      "cell_type": "markdown",
      "metadata": {
        "id": "jKZYAZG8hhGl"
      },
      "source": [
        "Train Test Split"
      ]
    },
    {
      "cell_type": "code",
      "metadata": {
        "id": "fbqySV0ehjKf"
      },
      "source": [
        "from sklearn.model_selection import train_test_split"
      ],
      "execution_count": null,
      "outputs": []
    },
    {
      "cell_type": "code",
      "metadata": {
        "id": "-usovrIoiNRr"
      },
      "source": [
        "xtrain, xtest, ytrain, ytest = train_test_split(x, y, test_size = 0.20, random_state = 42)"
      ],
      "execution_count": null,
      "outputs": []
    },
    {
      "cell_type": "code",
      "metadata": {
        "id": "nmD_9niViina"
      },
      "source": [
        "xtrain"
      ],
      "execution_count": null,
      "outputs": []
    },
    {
      "cell_type": "markdown",
      "metadata": {
        "id": "jaN4hrYFi9JC"
      },
      "source": [
        "Model Building"
      ]
    },
    {
      "cell_type": "code",
      "metadata": {
        "id": "sntZi2Jji6e5"
      },
      "source": [
        "from sklearn.linear_model import LinearRegression"
      ],
      "execution_count": null,
      "outputs": []
    },
    {
      "cell_type": "code",
      "metadata": {
        "id": "DAPylv1HjtEg"
      },
      "source": [
        "lReg = LinearRegression()"
      ],
      "execution_count": null,
      "outputs": []
    },
    {
      "cell_type": "code",
      "metadata": {
        "id": "T-wfdrhcjxy6"
      },
      "source": [
        "lReg.fit(xtrain, ytrain)"
      ],
      "execution_count": null,
      "outputs": []
    },
    {
      "cell_type": "code",
      "metadata": {
        "id": "G2jDo4s5kWgN"
      },
      "source": [
        "pre = lReg.predict(xtest)"
      ],
      "execution_count": null,
      "outputs": []
    },
    {
      "cell_type": "code",
      "metadata": {
        "id": "HCdu6xgkkh3m"
      },
      "source": [
        "pre"
      ],
      "execution_count": null,
      "outputs": []
    },
    {
      "cell_type": "code",
      "metadata": {
        "id": "DLEb3t2_j7A2"
      },
      "source": [
        "ytest"
      ],
      "execution_count": null,
      "outputs": []
    },
    {
      "cell_type": "code",
      "metadata": {
        "id": "vo6cELk9wjBz"
      },
      "source": [
        "# plt.scatter(df['carlength'], df['price'])\n",
        "# plt.xlabel('Price')\n",
        "# plt.ylabel('Car Length')\n",
        "# plt.title('Best Fit Line')\n",
        "# plt.plot(df.carlength, lReg.predict(df[['carlength']]))\n",
        "# plt.show()"
      ],
      "execution_count": null,
      "outputs": []
    },
    {
      "cell_type": "markdown",
      "metadata": {
        "id": "J0yUmxljoeS1"
      },
      "source": [
        "Performence"
      ]
    },
    {
      "cell_type": "code",
      "metadata": {
        "id": "8vsbrAdsk2K_"
      },
      "source": [
        "lReg.score(xtest, ytest)"
      ],
      "execution_count": null,
      "outputs": []
    },
    {
      "cell_type": "code",
      "metadata": {
        "id": "lZizptren8u-"
      },
      "source": [
        "lReg.coef_"
      ],
      "execution_count": null,
      "outputs": []
    },
    {
      "cell_type": "code",
      "metadata": {
        "id": "ECDvq8TvoJGN"
      },
      "source": [
        "lReg.intercept_"
      ],
      "execution_count": null,
      "outputs": []
    }
  ]
}