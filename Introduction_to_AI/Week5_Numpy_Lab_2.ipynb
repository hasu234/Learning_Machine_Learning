{
  "nbformat": 4,
  "nbformat_minor": 0,
  "metadata": {
    "colab": {
      "name": "Numpy_Lab_2.ipynb",
      "provenance": []
    },
    "kernelspec": {
      "name": "python3",
      "display_name": "Python 3"
    }
  },
  "cells": [
    {
      "cell_type": "markdown",
      "metadata": {
        "id": "rJhAPaERa4bc"
      },
      "source": [
        "#Universal Functions"
      ]
    },
    {
      "cell_type": "code",
      "metadata": {
        "id": "NpCcfjkFa3jR"
      },
      "source": [
        "import numpy as np"
      ],
      "execution_count": null,
      "outputs": []
    },
    {
      "cell_type": "code",
      "metadata": {
        "id": "jGN0mRfhbEsj"
      },
      "source": [
        "num = np.array([1, 4, 9, 16, 25, 36])"
      ],
      "execution_count": null,
      "outputs": []
    },
    {
      "cell_type": "markdown",
      "metadata": {
        "id": "1iuTYwKObJ3z"
      },
      "source": [
        "Arithmetic Operation"
      ]
    },
    {
      "cell_type": "code",
      "metadata": {
        "id": "Pknl2cCHbI6H",
        "colab": {
          "base_uri": "https://localhost:8080/"
        },
        "outputId": "5cef7835-d95c-46c0-9ec9-edfb168efaf5"
      },
      "source": [
        "np.sqrt(num)"
      ],
      "execution_count": null,
      "outputs": [
        {
          "output_type": "execute_result",
          "data": {
            "text/plain": [
              "array([1., 2., 3., 4., 5., 6.])"
            ]
          },
          "metadata": {
            "tags": []
          },
          "execution_count": 3
        }
      ]
    },
    {
      "cell_type": "code",
      "metadata": {
        "id": "_BWt-qiIbh3b"
      },
      "source": [
        "num2 = np.arange(0, 6) * 10"
      ],
      "execution_count": null,
      "outputs": []
    },
    {
      "cell_type": "code",
      "metadata": {
        "id": "kxmdzC8kbrLR",
        "colab": {
          "base_uri": "https://localhost:8080/"
        },
        "outputId": "be22edaa-7fba-4473-94ff-d0b9dff6ff84"
      },
      "source": [
        "num2"
      ],
      "execution_count": null,
      "outputs": [
        {
          "output_type": "execute_result",
          "data": {
            "text/plain": [
              "array([ 0, 10, 20, 30, 40, 50])"
            ]
          },
          "metadata": {
            "tags": []
          },
          "execution_count": 5
        }
      ]
    },
    {
      "cell_type": "code",
      "metadata": {
        "id": "Tk6LRDosb9ow",
        "colab": {
          "base_uri": "https://localhost:8080/"
        },
        "outputId": "1330b637-feb5-47bb-d43e-49b168ffcbb4"
      },
      "source": [
        "np.add(num, num2)"
      ],
      "execution_count": null,
      "outputs": [
        {
          "output_type": "execute_result",
          "data": {
            "text/plain": [
              "array([ 1, 14, 29, 46, 65, 86])"
            ]
          },
          "metadata": {
            "tags": []
          },
          "execution_count": 6
        }
      ]
    },
    {
      "cell_type": "code",
      "metadata": {
        "id": "tppDetcBxMva"
      },
      "source": [
        "num3 = np.array([1, 2, 4, 5, 10, 15])"
      ],
      "execution_count": null,
      "outputs": []
    },
    {
      "cell_type": "code",
      "metadata": {
        "id": "Yb4yoZ8xrHdg",
        "colab": {
          "base_uri": "https://localhost:8080/"
        },
        "outputId": "490d5f42-ab59-4ec0-bc98-cfd051942f14"
      },
      "source": [
        "np.divide(num, num3)"
      ],
      "execution_count": null,
      "outputs": [
        {
          "output_type": "execute_result",
          "data": {
            "text/plain": [
              "array([1.  , 2.  , 2.25, 3.2 , 2.5 , 2.4 ])"
            ]
          },
          "metadata": {
            "tags": []
          },
          "execution_count": 8
        }
      ]
    },
    {
      "cell_type": "code",
      "metadata": {
        "id": "08UBUr7lwvGp",
        "colab": {
          "base_uri": "https://localhost:8080/"
        },
        "outputId": "249fb088-c863-49fa-e768-9e523124cab1"
      },
      "source": [
        "np.mod(num,num3)"
      ],
      "execution_count": null,
      "outputs": [
        {
          "output_type": "execute_result",
          "data": {
            "text/plain": [
              "array([0, 0, 1, 1, 5, 6])"
            ]
          },
          "metadata": {
            "tags": []
          },
          "execution_count": 9
        }
      ]
    },
    {
      "cell_type": "code",
      "metadata": {
        "id": "v6Vsk54MxAGO",
        "colab": {
          "base_uri": "https://localhost:8080/"
        },
        "outputId": "004f53c9-e38a-4196-ccfc-62d908744a4a"
      },
      "source": [
        "np.remainder(num,num3)"
      ],
      "execution_count": null,
      "outputs": [
        {
          "output_type": "execute_result",
          "data": {
            "text/plain": [
              "array([0, 0, 1, 1, 5, 6])"
            ]
          },
          "metadata": {
            "tags": []
          },
          "execution_count": 10
        }
      ]
    },
    {
      "cell_type": "markdown",
      "metadata": {
        "id": "hM_Q-xu_h7ls"
      },
      "source": [
        "Array Product"
      ]
    },
    {
      "cell_type": "code",
      "metadata": {
        "id": "cTnoCLI-TsIu"
      },
      "source": [
        "A = np.array( [[1,1],\r\n",
        "               [0,1]] )\r\n",
        "\r\n",
        "B = np.array( [[2,0],\r\n",
        "               [3,4]] )"
      ],
      "execution_count": null,
      "outputs": []
    },
    {
      "cell_type": "code",
      "metadata": {
        "id": "AxkAffDYT5l1",
        "colab": {
          "base_uri": "https://localhost:8080/"
        },
        "outputId": "5a9a0616-eba7-4950-fe19-3d35ad0d1ee8"
      },
      "source": [
        "A * B    # elementwise product"
      ],
      "execution_count": null,
      "outputs": [
        {
          "output_type": "execute_result",
          "data": {
            "text/plain": [
              "array([[2, 0],\n",
              "       [0, 4]])"
            ]
          },
          "metadata": {
            "tags": []
          },
          "execution_count": 12
        }
      ]
    },
    {
      "cell_type": "code",
      "metadata": {
        "id": "ujdkrWWbXO5g",
        "colab": {
          "base_uri": "https://localhost:8080/"
        },
        "outputId": "8524368e-da82-4ec8-8fe8-0ffa1d00314a"
      },
      "source": [
        "np.multiply(A,B)"
      ],
      "execution_count": null,
      "outputs": [
        {
          "output_type": "execute_result",
          "data": {
            "text/plain": [
              "array([[2, 0],\n",
              "       [0, 4]])"
            ]
          },
          "metadata": {
            "tags": []
          },
          "execution_count": 13
        }
      ]
    },
    {
      "cell_type": "code",
      "metadata": {
        "id": "4TyPXp87T-lo",
        "colab": {
          "base_uri": "https://localhost:8080/"
        },
        "outputId": "37fe5f83-4465-495f-a625-54065ea37781"
      },
      "source": [
        "A @ B    # matrix product"
      ],
      "execution_count": null,
      "outputs": [
        {
          "output_type": "execute_result",
          "data": {
            "text/plain": [
              "array([[5, 4],\n",
              "       [3, 4]])"
            ]
          },
          "metadata": {
            "tags": []
          },
          "execution_count": 14
        }
      ]
    },
    {
      "cell_type": "code",
      "metadata": {
        "id": "StnnmR9uUFBk",
        "colab": {
          "base_uri": "https://localhost:8080/"
        },
        "outputId": "db272da1-b6e2-49ea-c2c1-58a50d799b1b"
      },
      "source": [
        "A.dot(B)"
      ],
      "execution_count": null,
      "outputs": [
        {
          "output_type": "execute_result",
          "data": {
            "text/plain": [
              "array([[5, 4],\n",
              "       [3, 4]])"
            ]
          },
          "metadata": {
            "tags": []
          },
          "execution_count": 15
        }
      ]
    },
    {
      "cell_type": "markdown",
      "metadata": {
        "id": "2gaaQuMScVDI"
      },
      "source": [
        "Exponents and Logarithms"
      ]
    },
    {
      "cell_type": "code",
      "metadata": {
        "id": "LC_4zpIAcYbP",
        "colab": {
          "base_uri": "https://localhost:8080/"
        },
        "outputId": "e0a3e96c-eda8-4dce-b36f-78019d0f8d90"
      },
      "source": [
        "np.exp(1)"
      ],
      "execution_count": null,
      "outputs": [
        {
          "output_type": "execute_result",
          "data": {
            "text/plain": [
              "2.718281828459045"
            ]
          },
          "metadata": {
            "tags": []
          },
          "execution_count": 16
        }
      ]
    },
    {
      "cell_type": "code",
      "metadata": {
        "id": "LRwprTRteIBE",
        "colab": {
          "base_uri": "https://localhost:8080/"
        },
        "outputId": "00db8350-fa11-4d8a-8574-f9b531f7cd19"
      },
      "source": [
        "np.power(3, 3)"
      ],
      "execution_count": null,
      "outputs": [
        {
          "output_type": "execute_result",
          "data": {
            "text/plain": [
              "27"
            ]
          },
          "metadata": {
            "tags": []
          },
          "execution_count": 17
        }
      ]
    },
    {
      "cell_type": "code",
      "metadata": {
        "id": "1rFyZl9beqXb",
        "colab": {
          "base_uri": "https://localhost:8080/"
        },
        "outputId": "84ab263a-29c6-4992-eea0-e496fbc0532a"
      },
      "source": [
        "np.log10(2)"
      ],
      "execution_count": null,
      "outputs": [
        {
          "output_type": "execute_result",
          "data": {
            "text/plain": [
              "0.3010299956639812"
            ]
          },
          "metadata": {
            "tags": []
          },
          "execution_count": 27
        }
      ]
    },
    {
      "cell_type": "code",
      "metadata": {
        "id": "_zpreFLZe63l",
        "colab": {
          "base_uri": "https://localhost:8080/"
        },
        "outputId": "eb1f9329-722b-4286-bdab-114f0f9a0b6e"
      },
      "source": [
        "np.log2(4)"
      ],
      "execution_count": null,
      "outputs": [
        {
          "output_type": "execute_result",
          "data": {
            "text/plain": [
              "2.0"
            ]
          },
          "metadata": {
            "tags": []
          },
          "execution_count": 28
        }
      ]
    },
    {
      "cell_type": "markdown",
      "metadata": {
        "id": "S7-8ZyyKf3MY"
      },
      "source": [
        "Trigonometric Functions"
      ]
    },
    {
      "cell_type": "code",
      "metadata": {
        "id": "45y8mAyNf5RP"
      },
      "source": [
        "import math\r\n",
        "value = np.array([0,30,45,60,90])"
      ],
      "execution_count": null,
      "outputs": []
    },
    {
      "cell_type": "code",
      "metadata": {
        "id": "czgoHD0agbO2",
        "colab": {
          "base_uri": "https://localhost:8080/"
        },
        "outputId": "5a1501f5-d049-4444-eab2-8f421f1da880"
      },
      "source": [
        "a = np.sin(value*math.pi/180)  #the result is in Radians\r\n",
        "a"
      ],
      "execution_count": null,
      "outputs": [
        {
          "output_type": "execute_result",
          "data": {
            "text/plain": [
              "array([0.        , 0.5       , 0.70710678, 0.8660254 , 1.        ])"
            ]
          },
          "metadata": {
            "tags": []
          },
          "execution_count": 19
        }
      ]
    },
    {
      "cell_type": "code",
      "metadata": {
        "colab": {
          "base_uri": "https://localhost:8080/"
        },
        "id": "6Dlbp3vBOvKm",
        "outputId": "fb6d699f-c8f2-49c9-df3c-efcc06df18fd"
      },
      "source": [
        "result = np.arcsin(a)\r\n",
        "result"
      ],
      "execution_count": null,
      "outputs": [
        {
          "output_type": "execute_result",
          "data": {
            "text/plain": [
              "array([0.        , 0.52359878, 0.78539816, 1.04719755, 1.57079633])"
            ]
          },
          "metadata": {
            "tags": []
          },
          "execution_count": 20
        }
      ]
    },
    {
      "cell_type": "code",
      "metadata": {
        "colab": {
          "base_uri": "https://localhost:8080/"
        },
        "id": "SulrD4kGO4--",
        "outputId": "11258f54-fdd4-4a46-c36b-6b39ce9e2361"
      },
      "source": [
        "np.degrees(result)"
      ],
      "execution_count": null,
      "outputs": [
        {
          "output_type": "execute_result",
          "data": {
            "text/plain": [
              "array([ 0., 30., 45., 60., 90.])"
            ]
          },
          "metadata": {
            "tags": []
          },
          "execution_count": 21
        }
      ]
    },
    {
      "cell_type": "code",
      "metadata": {
        "id": "odvmGbVCgnE9",
        "colab": {
          "base_uri": "https://localhost:8080/"
        },
        "outputId": "24fa1c32-f64e-486e-a327-a500853fc63f"
      },
      "source": [
        "np.cos(value)"
      ],
      "execution_count": null,
      "outputs": [
        {
          "output_type": "execute_result",
          "data": {
            "text/plain": [
              "array([ 1.        ,  0.15425145,  0.52532199, -0.95241298, -0.44807362])"
            ]
          },
          "metadata": {
            "tags": []
          },
          "execution_count": 31
        }
      ]
    },
    {
      "cell_type": "code",
      "metadata": {
        "id": "O51jH_Iwgose",
        "colab": {
          "base_uri": "https://localhost:8080/"
        },
        "outputId": "920ab28f-c5ef-4137-e6bf-c1b34becbedc"
      },
      "source": [
        "res = np.tan(value*np.pi/180) # result in Degree\r\n",
        "res"
      ],
      "execution_count": null,
      "outputs": [
        {
          "output_type": "execute_result",
          "data": {
            "text/plain": [
              "array([0.00000000e+00, 5.77350269e-01, 1.00000000e+00, 1.73205081e+00,\n",
              "       1.63312394e+16])"
            ]
          },
          "metadata": {
            "tags": []
          },
          "execution_count": 34
        }
      ]
    },
    {
      "cell_type": "code",
      "metadata": {
        "id": "F3s24qk0t1XV",
        "colab": {
          "base_uri": "https://localhost:8080/"
        },
        "outputId": "2cb70adb-e748-4c1d-cb34-27af20ae801c"
      },
      "source": [
        "inverseOfTan = np.arctan(res)\r\n",
        "inverseOfTan"
      ],
      "execution_count": null,
      "outputs": [
        {
          "output_type": "execute_result",
          "data": {
            "text/plain": [
              "array([0.        , 0.52359878, 0.78539816, 1.04719755, 1.57079633])"
            ]
          },
          "metadata": {
            "tags": []
          },
          "execution_count": 35
        }
      ]
    },
    {
      "cell_type": "code",
      "metadata": {
        "id": "eKhbMJw3t1SF",
        "colab": {
          "base_uri": "https://localhost:8080/"
        },
        "outputId": "d3afdc21-42cb-4bd2-d35e-39a2a391688b"
      },
      "source": [
        "np.degrees(inverseOfTan)"
      ],
      "execution_count": null,
      "outputs": [
        {
          "output_type": "execute_result",
          "data": {
            "text/plain": [
              "array([ 0., 30., 45., 60., 90.])"
            ]
          },
          "metadata": {
            "tags": []
          },
          "execution_count": 36
        }
      ]
    },
    {
      "cell_type": "code",
      "metadata": {
        "id": "O5TmI1HAOFe9"
      },
      "source": [
        "np.radians()"
      ],
      "execution_count": null,
      "outputs": []
    },
    {
      "cell_type": "code",
      "metadata": {
        "id": "wG2v0jxwON-4"
      },
      "source": [
        "np.deg2rad()"
      ],
      "execution_count": null,
      "outputs": []
    },
    {
      "cell_type": "markdown",
      "metadata": {
        "id": "cw6nXJOhma7p"
      },
      "source": [
        "#Indexing"
      ]
    },
    {
      "cell_type": "code",
      "metadata": {
        "id": "kQSebnjgmeCh"
      },
      "source": [
        "num = np.array([1, 4, 9, 16, 25, 36])"
      ],
      "execution_count": null,
      "outputs": []
    },
    {
      "cell_type": "code",
      "metadata": {
        "id": "F__bODVFmjav",
        "colab": {
          "base_uri": "https://localhost:8080/"
        },
        "outputId": "b847451b-2c8a-4f69-b510-6d0946f9a75d"
      },
      "source": [
        "num[1:]"
      ],
      "execution_count": null,
      "outputs": [
        {
          "output_type": "execute_result",
          "data": {
            "text/plain": [
              "array([ 4,  9, 16, 25, 36])"
            ]
          },
          "metadata": {
            "tags": []
          },
          "execution_count": 24
        }
      ]
    },
    {
      "cell_type": "code",
      "metadata": {
        "id": "M88gfjw3mxp-"
      },
      "source": [
        "grades = np.array([[87, 96, 70],\r\n",
        "                   [100, 87, 90],\r\n",
        "                   [94, 77, 90], \r\n",
        "                   [100, 81, 82]])"
      ],
      "execution_count": null,
      "outputs": []
    },
    {
      "cell_type": "code",
      "metadata": {
        "id": "O6a8e_aEm6hw",
        "colab": {
          "base_uri": "https://localhost:8080/"
        },
        "outputId": "7ea975c3-a8b3-4700-bdf4-c4c0879853f9"
      },
      "source": [
        "grades"
      ],
      "execution_count": null,
      "outputs": [
        {
          "output_type": "execute_result",
          "data": {
            "text/plain": [
              "array([[ 87,  96,  70],\n",
              "       [100,  87,  90],\n",
              "       [ 94,  77,  90],\n",
              "       [100,  81,  82]])"
            ]
          },
          "metadata": {
            "tags": []
          },
          "execution_count": 26
        }
      ]
    },
    {
      "cell_type": "code",
      "metadata": {
        "id": "iD3BTfxxm9oT",
        "colab": {
          "base_uri": "https://localhost:8080/"
        },
        "outputId": "011e4b3b-a58c-4a06-8524-eacbd0e961e2"
      },
      "source": [
        "grades[2] #select a single row, specify only one index in square brackets"
      ],
      "execution_count": null,
      "outputs": [
        {
          "output_type": "execute_result",
          "data": {
            "text/plain": [
              "array([94, 77, 90])"
            ]
          },
          "metadata": {
            "tags": []
          },
          "execution_count": 27
        }
      ]
    },
    {
      "cell_type": "code",
      "metadata": {
        "id": "d2MeEK41nRkE",
        "colab": {
          "base_uri": "https://localhost:8080/"
        },
        "outputId": "e053eb15-f4b4-4152-b933-bb2b6756b8cf"
      },
      "source": [
        "grades[0:2] #select multiple sequential rows, use slice notation"
      ],
      "execution_count": null,
      "outputs": [
        {
          "output_type": "execute_result",
          "data": {
            "text/plain": [
              "array([[ 87,  96,  70],\n",
              "       [100,  87,  90]])"
            ]
          },
          "metadata": {
            "tags": []
          },
          "execution_count": 28
        }
      ]
    },
    {
      "cell_type": "markdown",
      "metadata": {
        "id": "QV4gPhoCGH05"
      },
      "source": [
        "#Array Slicing\r\n",
        "\r\n"
      ]
    },
    {
      "cell_type": "code",
      "metadata": {
        "id": "bYkV-0em--ix"
      },
      "source": [
        "a = np.array([[1,2,3,4], [5,6,7,8], [9,10,11,12],[1,2,3,4], [5,6,7,8], [9,10,11,12]])\r\n"
      ],
      "execution_count": null,
      "outputs": []
    },
    {
      "cell_type": "code",
      "metadata": {
        "id": "UWKZgWw5g7W-",
        "colab": {
          "base_uri": "https://localhost:8080/"
        },
        "outputId": "b7fc4156-f355-4b4e-b31e-3578698269f0"
      },
      "source": [
        "a"
      ],
      "execution_count": null,
      "outputs": [
        {
          "output_type": "execute_result",
          "data": {
            "text/plain": [
              "array([[ 1,  2,  3,  4],\n",
              "       [ 5,  6,  7,  8],\n",
              "       [ 9, 10, 11, 12],\n",
              "       [ 1,  2,  3,  4],\n",
              "       [ 5,  6,  7,  8],\n",
              "       [ 9, 10, 11, 12]])"
            ]
          },
          "metadata": {
            "tags": []
          },
          "execution_count": 30
        }
      ]
    },
    {
      "cell_type": "code",
      "metadata": {
        "colab": {
          "base_uri": "https://localhost:8080/"
        },
        "id": "557UhzayQoN0",
        "outputId": "be9f7bad-9b5d-42a4-f06e-397782ffae98"
      },
      "source": [
        "a[4:6, 1:3]"
      ],
      "execution_count": null,
      "outputs": [
        {
          "output_type": "execute_result",
          "data": {
            "text/plain": [
              "array([[ 6,  7],\n",
              "       [10, 11]])"
            ]
          },
          "metadata": {
            "tags": []
          },
          "execution_count": 31
        }
      ]
    },
    {
      "cell_type": "code",
      "metadata": {
        "id": "d9upZYtYnh9w",
        "colab": {
          "base_uri": "https://localhost:8080/"
        },
        "outputId": "77cb7821-ed1a-4cfe-a4a4-acdec18bfb8e"
      },
      "source": [
        "a[2:5, 2:4]  #Selecting a Subset of a Two-Dimensional array’s Columns"
      ],
      "execution_count": null,
      "outputs": [
        {
          "output_type": "execute_result",
          "data": {
            "text/plain": [
              "array([[11, 12],\n",
              "       [ 3,  4],\n",
              "       [ 7,  8]])"
            ]
          },
          "metadata": {
            "tags": []
          },
          "execution_count": 32
        }
      ]
    },
    {
      "cell_type": "code",
      "metadata": {
        "id": "SfVvKwglgvwn",
        "colab": {
          "base_uri": "https://localhost:8080/"
        },
        "outputId": "3edff37c-4331-40e0-ab02-407f5a18e1fb"
      },
      "source": [
        "a[3:4, 2:4]"
      ],
      "execution_count": null,
      "outputs": [
        {
          "output_type": "execute_result",
          "data": {
            "text/plain": [
              "array([[3, 4]])"
            ]
          },
          "metadata": {
            "tags": []
          },
          "execution_count": 33
        }
      ]
    },
    {
      "cell_type": "markdown",
      "metadata": {
        "id": "c9xQFlfZGBES"
      },
      "source": [
        "#Shallow and Deep Copy"
      ]
    },
    {
      "cell_type": "code",
      "metadata": {
        "id": "2yQIsGp8D8U7"
      },
      "source": [
        "import copy\r\n",
        "\r\n",
        "li1 = [1, 2, [3,5], 4]  "
      ],
      "execution_count": null,
      "outputs": []
    },
    {
      "cell_type": "code",
      "metadata": {
        "id": "pNO6iR9EkT7p"
      },
      "source": [
        "li2 = copy.deepcopy(li1) "
      ],
      "execution_count": null,
      "outputs": []
    },
    {
      "cell_type": "code",
      "metadata": {
        "id": "A-zlMp8Kkheq",
        "colab": {
          "base_uri": "https://localhost:8080/"
        },
        "outputId": "96994b3b-935f-4198-9090-31299f2ab7f7"
      },
      "source": [
        "li2"
      ],
      "execution_count": null,
      "outputs": [
        {
          "output_type": "execute_result",
          "data": {
            "text/plain": [
              "[1, 2, [3, 5], 4]"
            ]
          },
          "metadata": {
            "tags": []
          },
          "execution_count": 64
        }
      ]
    },
    {
      "cell_type": "code",
      "metadata": {
        "id": "-rmtdDYHmE8G",
        "colab": {
          "base_uri": "https://localhost:8080/"
        },
        "outputId": "6f01c159-0c85-4427-bf3d-8268faedff46"
      },
      "source": [
        "li1"
      ],
      "execution_count": null,
      "outputs": [
        {
          "output_type": "execute_result",
          "data": {
            "text/plain": [
              "[1, 2, [3, 5], 4]"
            ]
          },
          "metadata": {
            "tags": []
          },
          "execution_count": 65
        }
      ]
    },
    {
      "cell_type": "code",
      "metadata": {
        "id": "4nj0b8NKmaO1"
      },
      "source": [
        "li2[2][0] = 'Z'"
      ],
      "execution_count": null,
      "outputs": []
    },
    {
      "cell_type": "code",
      "metadata": {
        "id": "OuOa3o9kmmKd",
        "colab": {
          "base_uri": "https://localhost:8080/"
        },
        "outputId": "f5e066ff-b641-4951-9f07-96ad2d8efaf3"
      },
      "source": [
        "li2"
      ],
      "execution_count": null,
      "outputs": [
        {
          "output_type": "execute_result",
          "data": {
            "text/plain": [
              "[1, 2, ['Z', 5], 4]"
            ]
          },
          "metadata": {
            "tags": []
          },
          "execution_count": 67
        }
      ]
    },
    {
      "cell_type": "code",
      "metadata": {
        "id": "6jnKPZERmpMm",
        "colab": {
          "base_uri": "https://localhost:8080/"
        },
        "outputId": "bee5dfc6-9407-4e6e-971d-50893e434c00"
      },
      "source": [
        "li1"
      ],
      "execution_count": null,
      "outputs": [
        {
          "output_type": "execute_result",
          "data": {
            "text/plain": [
              "[1, 2, [3, 5], 4]"
            ]
          },
          "metadata": {
            "tags": []
          },
          "execution_count": 68
        }
      ]
    },
    {
      "cell_type": "markdown",
      "metadata": {
        "id": "sZoNAV8iGYRX"
      },
      "source": [
        "#Shape and Reshape"
      ]
    },
    {
      "cell_type": "code",
      "metadata": {
        "id": "jer4GrbwdS-f"
      },
      "source": [
        "temp = np.linspace(0,100,12)"
      ],
      "execution_count": null,
      "outputs": []
    },
    {
      "cell_type": "code",
      "metadata": {
        "id": "AjpsbHVROLoZ",
        "colab": {
          "base_uri": "https://localhost:8080/"
        },
        "outputId": "641b4333-c5c2-48ad-9e86-2acc4110f2b1"
      },
      "source": [
        "temp"
      ],
      "execution_count": null,
      "outputs": [
        {
          "output_type": "execute_result",
          "data": {
            "text/plain": [
              "array([  0.        ,   9.09090909,  18.18181818,  27.27272727,\n",
              "        36.36363636,  45.45454545,  54.54545455,  63.63636364,\n",
              "        72.72727273,  81.81818182,  90.90909091, 100.        ])"
            ]
          },
          "metadata": {
            "tags": []
          },
          "execution_count": 35
        }
      ]
    },
    {
      "cell_type": "code",
      "metadata": {
        "id": "1PI0SIjYeVn-",
        "colab": {
          "base_uri": "https://localhost:8080/"
        },
        "outputId": "15bf4a05-d358-49fd-d3c8-288b3181d2a8"
      },
      "source": [
        "temp.shape"
      ],
      "execution_count": null,
      "outputs": [
        {
          "output_type": "execute_result",
          "data": {
            "text/plain": [
              "(12,)"
            ]
          },
          "metadata": {
            "tags": []
          },
          "execution_count": 36
        }
      ]
    },
    {
      "cell_type": "code",
      "metadata": {
        "id": "66VNrDvEvVkF",
        "colab": {
          "base_uri": "https://localhost:8080/"
        },
        "outputId": "8b8706b2-eefe-47aa-a4f6-cef7ee84b001"
      },
      "source": [
        "temperatures = np.around(temp, decimals=1)\r\n",
        "temperatures"
      ],
      "execution_count": null,
      "outputs": [
        {
          "output_type": "execute_result",
          "data": {
            "text/plain": [
              "array([  0. ,   9.1,  18.2,  27.3,  36.4,  45.5,  54.5,  63.6,  72.7,\n",
              "        81.8,  90.9, 100. ])"
            ]
          },
          "metadata": {
            "tags": []
          },
          "execution_count": 39
        }
      ]
    },
    {
      "cell_type": "code",
      "metadata": {
        "id": "FRJFbBtDpGnr",
        "colab": {
          "base_uri": "https://localhost:8080/"
        },
        "outputId": "b337023f-959f-4589-c03a-541cad785365"
      },
      "source": [
        "t1 = temperatures.reshape(3,4)\r\n",
        "t1"
      ],
      "execution_count": null,
      "outputs": [
        {
          "output_type": "execute_result",
          "data": {
            "text/plain": [
              "array([[  0. ,   9.1,  18.2,  27.3],\n",
              "       [ 36.4,  45.5,  54.5,  63.6],\n",
              "       [ 72.7,  81.8,  90.9, 100. ]])"
            ]
          },
          "metadata": {
            "tags": []
          },
          "execution_count": 44
        }
      ]
    },
    {
      "cell_type": "code",
      "metadata": {
        "id": "yvczAOpJGouu",
        "colab": {
          "base_uri": "https://localhost:8080/"
        },
        "outputId": "b4b33f93-a28b-41e1-96ee-e090829e7ce0"
      },
      "source": [
        "t2 = temperatures.reshape(2,3,2)\r\n",
        "t2"
      ],
      "execution_count": null,
      "outputs": [
        {
          "output_type": "execute_result",
          "data": {
            "text/plain": [
              "array([[[  0. ,   9.1],\n",
              "        [ 18.2,  27.3],\n",
              "        [ 36.4,  45.5]],\n",
              "\n",
              "       [[ 54.5,  63.6],\n",
              "        [ 72.7,  81.8],\n",
              "        [ 90.9, 100. ]]])"
            ]
          },
          "metadata": {
            "tags": []
          },
          "execution_count": 45
        }
      ]
    },
    {
      "cell_type": "markdown",
      "metadata": {
        "id": "SByp3ix9qfkW"
      },
      "source": [
        "Transposing"
      ]
    },
    {
      "cell_type": "code",
      "metadata": {
        "id": "9y7Nw1WfeCDU",
        "colab": {
          "base_uri": "https://localhost:8080/"
        },
        "outputId": "f7d63c14-2f89-4a2f-9ae2-ee222d637886"
      },
      "source": [
        "z = np.swapaxes(t2, 0, 2)\r\n",
        "z"
      ],
      "execution_count": null,
      "outputs": [
        {
          "output_type": "execute_result",
          "data": {
            "text/plain": [
              "array([[[  0. ,  54.5],\n",
              "        [ 18.2,  72.7],\n",
              "        [ 36.4,  90.9]],\n",
              "\n",
              "       [[  9.1,  63.6],\n",
              "        [ 27.3,  81.8],\n",
              "        [ 45.5, 100. ]]])"
            ]
          },
          "metadata": {
            "tags": []
          },
          "execution_count": 51
        }
      ]
    },
    {
      "cell_type": "code",
      "metadata": {
        "id": "zSIMb_ApkXlh",
        "colab": {
          "base_uri": "https://localhost:8080/"
        },
        "outputId": "b7076198-dd5a-4b0a-fe2d-7d79050e5f81"
      },
      "source": [
        "z.T"
      ],
      "execution_count": null,
      "outputs": [
        {
          "output_type": "execute_result",
          "data": {
            "text/plain": [
              "array([[[  0. ,   9.1],\n",
              "        [ 18.2,  27.3],\n",
              "        [ 36.4,  45.5]],\n",
              "\n",
              "       [[ 54.5,  63.6],\n",
              "        [ 72.7,  81.8],\n",
              "        [ 90.9, 100. ]]])"
            ]
          },
          "metadata": {
            "tags": []
          },
          "execution_count": 52
        }
      ]
    },
    {
      "cell_type": "code",
      "metadata": {
        "id": "eRrK7LBA4RIa"
      },
      "source": [
        ""
      ],
      "execution_count": null,
      "outputs": []
    }
  ]
}